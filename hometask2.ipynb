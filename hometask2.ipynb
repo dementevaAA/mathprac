{
 "cells": [
  {
   "cell_type": "code",
   "execution_count": 3,
   "metadata": {},
   "outputs": [
    {
     "name": "stdout",
     "output_type": "stream",
     "text": [
      "0.23255764047912422\n",
      "0.5922936834513532\n",
      "0.3879085138122605\n"
     ]
    }
   ],
   "source": [
    "import numpy as np\n",
    "\n",
    "a = np.random.randn(30).reshape((10, 3))\n",
    "for j in range(3):\n",
    "    s = abs(a[0][j] - 0.5)\n",
    "    A = a[0][j]\n",
    "    for i in range(1, 10):\n",
    "        if (abs(a[i][j] - 0.5) < s):\n",
    "            s = abs(a[i][j] - 0.5)\n",
    "            A = a[i][j]\n",
    "    print(A)"
   ]
  },
  {
   "cell_type": "code",
   "execution_count": 4,
   "metadata": {},
   "outputs": [
    {
     "name": "stdout",
     "output_type": "stream",
     "text": [
      "2.447820899191405\n",
      "-4.2646530586746865\n",
      "0.6169612892825846\n",
      "0.31925665695860284\n",
      "-0.8482763120343483\n",
      "-1.1914089615586438\n"
     ]
    }
   ],
   "source": [
    "import numpy as np\n",
    "\n",
    "a = np.random.randn(36).reshape((6, 6))\n",
    "for j in range(6):\n",
    "    S = 0\n",
    "    M = a[0][j]\n",
    "    for i in range(6):\n",
    "        S = S + a[j][i]\n",
    "        if (a[i][j] < M):\n",
    "            M = a[i][j]\n",
    "    if (M != 0):\n",
    "        print(S/M)\n",
    "    else:\n",
    "        print(\"ERROR\")"
   ]
  },
  {
   "cell_type": "code",
   "execution_count": 5,
   "metadata": {},
   "outputs": [
    {
     "name": "stdout",
     "output_type": "stream",
     "text": [
      "5\n"
     ]
    }
   ],
   "source": [
    "import numpy as np\n",
    "\n",
    "x = np.array([6, 2, 0, 3, 0, 0, 5, 7, 0])\n",
    "s = 0\n",
    "for i in range(len(x)-1):\n",
    "    if (x[i] == 0):\n",
    "        if (s == 0):\n",
    "            Max = x[i+1]\n",
    "            s = 1\n",
    "        else:\n",
    "            if (Max < x[i+1]):\n",
    "                Max = x[i+1]\n",
    "print(Max)"
   ]
  },
  {
   "cell_type": "code",
   "execution_count": 6,
   "metadata": {},
   "outputs": [
    {
     "name": "stdout",
     "output_type": "stream",
     "text": [
      "[2. 2. 2. 2. 1. 4. 1. 1. 2. 1.]\n"
     ]
    }
   ],
   "source": [
    "import numpy as np\n",
    "\n",
    "x = np.ones(10)\n",
    "i = np.array([0, 1, 2, 3, 5, 5, 5, 8])\n",
    "for j in range(len(i)):\n",
    "    if (len(x) > i[j]):\n",
    "        x[i[j]] = x[i[j]] + 1.\n",
    "print(x)"
   ]
  },
  {
   "cell_type": "code",
   "execution_count": 2,
   "metadata": {},
   "outputs": [
    {
     "name": "stdout",
     "output_type": "stream",
     "text": [
      "3\n",
      "10\n",
      "[[-0.04009541]\n",
      " [ 0.18229249]\n",
      " [-1.0813814 ]\n",
      " [ 0.12683814]]\n",
      "[[0.12683814]]\n",
      "[[-0.20308655]]\n",
      "1.756589717139513\n"
     ]
    }
   ],
   "source": [
    "import numpy as np\n",
    "import random\n",
    "\n",
    "iter = int(input())\n",
    "thresh = float(input())\n",
    "\n",
    "M = random.randint(1,10)\n",
    "N = random.randint(1,2)\n",
    "k = random.randint(1,M)\n",
    "\n",
    "obs = np.random.randn(M*N).reshape((M, N))\n",
    "k_or_guess = np.zeros(k*N).reshape((k, N))\n",
    "print(obs)\n",
    "Number = []\n",
    "for i in range(M):\n",
    "    Number.append(i)\n",
    "for i in range(k):\n",
    "    A = random.choice(Number)\n",
    "    index = A\n",
    "    for l in range(len(Number)):\n",
    "        if (Number[l] == A):\n",
    "            index = l\n",
    "    del Number[index]\n",
    "    for j in range(N):\n",
    "        k_or_guess[i][j] = obs[A][j]\n",
    "print(k_or_guess)\n",
    "check_where_obs_is = np.zeros(M)\n",
    "S = thresh + 1\n",
    "\n",
    "while (S > thresh):\n",
    "    for i in range(M):\n",
    "        Min = 0\n",
    "        for j in range(N):\n",
    "            Min = Min + (k_or_guess[0][j] - obs[i][j])**2\n",
    "        Min = Min**0.5\n",
    "        check_where_obs_is[i] = 0\n",
    "        for K in range(1, k):\n",
    "            norma = 0\n",
    "            for j in range(N):\n",
    "                norma = norma + (k_or_guess[K][j] - obs[i][j])**2\n",
    "            norma = norma**0.5\n",
    "            if (norma < Min):\n",
    "                Min = norma\n",
    "                check_where_obs_is[i] = K\n",
    "            \n",
    "    for K in range(k):\n",
    "        n = 0\n",
    "        ch = 0 \n",
    "        for i in range(M): \n",
    "            if (check_where_obs_is[i] == K):\n",
    "                if (ch == 0):\n",
    "                    for j in range(N):\n",
    "                        k_or_guess[K][j] = 0\n",
    "                        ch = 1\n",
    "                for j in range(N):\n",
    "                    k_or_guess[K][j] = k_or_guess[K][j] + obs[i][j]\n",
    "                n = n + 1\n",
    "        for j in range(N):\n",
    "            if (n != 0):\n",
    "                k_or_guess[K][j] = k_or_guess[K][j]/n\n",
    "    S = 0\n",
    "    for K in range(k):\n",
    "        for i in range(M):\n",
    "            if (check_where_obs_is[i] == K):\n",
    "                ss = 0\n",
    "                for j in range(N):\n",
    "                    ss = ss + (k_or_guess[K][j] - obs[i][j])**2\n",
    "                S = S + ss**0.5\n",
    "print(k_or_guess)\n",
    "print(S)"
   ]
  },
  {
   "cell_type": "code",
   "execution_count": null,
   "metadata": {},
   "outputs": [],
   "source": []
  }
 ],
 "metadata": {
  "kernelspec": {
   "display_name": "Python 3",
   "language": "python",
   "name": "python3"
  },
  "language_info": {
   "codemirror_mode": {
    "name": "ipython",
    "version": 3
   },
   "file_extension": ".py",
   "mimetype": "text/x-python",
   "name": "python",
   "nbconvert_exporter": "python",
   "pygments_lexer": "ipython3",
   "version": "3.7.0"
  }
 },
 "nbformat": 4,
 "nbformat_minor": 2
}
