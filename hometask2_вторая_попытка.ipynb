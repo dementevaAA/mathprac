{
 "cells": [
  {
   "cell_type": "code",
   "execution_count": 8,
   "metadata": {},
   "outputs": [
    {
     "name": "stdout",
     "output_type": "stream",
     "text": [
      "[[ 0.81642936 -0.62492997 -0.07404643]\n",
      " [-0.58199599 -0.35465618 -0.06955319]\n",
      " [ 1.1321548  -0.7781611  -1.40197131]\n",
      " [-0.13207513  0.61745377  0.40013387]\n",
      " [ 0.22453451  0.08818757  0.23329947]\n",
      " [-1.31894257 -0.19644174  1.68372234]\n",
      " [-0.56608164 -0.47055982  0.02093542]\n",
      " [ 2.55240942 -0.5827125   0.87047293]\n",
      " [ 1.82484224  0.68311256 -1.99672262]\n",
      " [-0.3566861  -0.65584139 -0.39604645]]\n",
      "0.816429356957826\n",
      "-0.0695531871233732\n",
      "1.1321548006747786\n",
      "0.40013386931945105\n",
      "0.2332994714675692\n",
      "-0.19644174451352026\n",
      "0.020935419134568218\n",
      "0.8704729260764618\n",
      "0.6831125637123103\n",
      "-0.35668609893541847\n"
     ]
    }
   ],
   "source": [
    "a = np.random.randn(10, 3)\n",
    "print(a)\n",
    "for j in range(10):\n",
    "    s = abs(a[j][0] - 0.5)\n",
    "    A = a[j][0]\n",
    "    for i in range(1, 3):\n",
    "        if (abs(a[j][i] - 0.5) < s):\n",
    "            s = abs(a[j][i] - 0.5)\n",
    "            A = a[j][i]\n",
    "    print(A)"
   ]
  },
  {
   "cell_type": "code",
   "execution_count": 11,
   "metadata": {},
   "outputs": [
    {
     "name": "stdout",
     "output_type": "stream",
     "text": [
      "[[0.5453273  0.06973517 0.83579972 0.25158366 0.34457856 0.14808282]\n",
      " [0.1196136  0.24628566 0.38358663 0.03345113 0.7372749  0.47477534]\n",
      " [0.21871135 0.01396712 0.92054232 0.81691156 0.12827832 0.07830276]\n",
      " [0.29923409 0.96634411 0.87941309 0.38343993 0.93305987 0.09525738]\n",
      " [0.56084005 0.71432753 0.45899023 0.53803089 0.83074595 0.00962572]\n",
      " [0.36458956 0.11499434 0.96081071 0.99521362 0.38816349 0.67996558]]\n",
      "18.351652012989405\n",
      "142.83456312972808\n",
      "5.674633266225733\n",
      "106.32672173272398\n",
      "24.264117977981932\n",
      "363.9975827065463\n"
     ]
    }
   ],
   "source": [
    "a = np.random.rand(6,6)\n",
    "print(a)\n",
    "for i in range(6):\n",
    "    print(a[i].sum()/a[:,i].min())"
   ]
  },
  {
   "cell_type": "code",
   "execution_count": 12,
   "metadata": {},
   "outputs": [
    {
     "name": "stdout",
     "output_type": "stream",
     "text": [
      "5\n"
     ]
    }
   ],
   "source": [
    "x = np.array([6, 2, 0, 3, 0, 0, 5, 7, 0])\n",
    "Max = 0\n",
    "for i in range(1, len(x)):\n",
    "    if (x[i-1] == 0):\n",
    "        if (x[i] > Max):\n",
    "            Max = x[i]\n",
    "print(Max)"
   ]
  },
  {
   "cell_type": "code",
   "execution_count": 13,
   "metadata": {},
   "outputs": [
    {
     "name": "stdout",
     "output_type": "stream",
     "text": [
      "[2. 2. 2. 2. 1. 4. 1. 1. 2. 1.]\n"
     ]
    }
   ],
   "source": [
    "x = np.ones(10)\n",
    "i = np.array([0, 1, 2, 3, 5, 5, 5, 8])\n",
    "for j in i:\n",
    "    x[j] = x[j] + 1.\n",
    "print(x)"
   ]
  },
  {
   "cell_type": "code",
   "execution_count": 23,
   "metadata": {},
   "outputs": [],
   "source": [
    "def k_means(obs, k, iter, thresh):\n",
    "    \n",
    "    ch = 0 \n",
    "    S = 0\n",
    "    S_previous = thresh + 1\n",
    "    k_or_guess = np.array(obs[:k])                                                                    \n",
    "    check_where_obs_is = np.argmin(np.linalg.norm(obs - k_or_guess[:, None], axis = 2), axis = 0)  \n",
    "    \n",
    "    while (abs(S - S_previous) > thresh):\n",
    "        \n",
    "        ch = ch + 1\n",
    "        if (ch > iter):\n",
    "            break\n",
    "        \n",
    "        for K in range(k):\n",
    "            k_or_guess[K] = np.mean(obs[check_where_obs_is == K], axis = 0) \n",
    "            \n",
    "        check_where_obs_is = np.argmin(np.linalg.norm(obs - k_or_guess[:, None], axis = 2), axis = 0) \n",
    "        S_previous = S\n",
    "        S = np.mean(np.linalg.norm(obs - k_or_guess[check_where_obs_is], axis = 1)) \n",
    "            \n",
    "    return (check_where_obs_is, S)"
   ]
  }
 ],
 "metadata": {
  "kernelspec": {
   "display_name": "Python 3",
   "language": "python",
   "name": "python3"
  },
  "language_info": {
   "codemirror_mode": {
    "name": "ipython",
    "version": 3
   },
   "file_extension": ".py",
   "mimetype": "text/x-python",
   "name": "python",
   "nbconvert_exporter": "python",
   "pygments_lexer": "ipython3",
   "version": "3.7.0"
  }
 },
 "nbformat": 4,
 "nbformat_minor": 2
}
